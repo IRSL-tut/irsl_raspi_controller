{
 "cells": [
  {
   "cell_type": "markdown",
   "id": "a471cad1-86bf-4c63-913a-6a96b1dc07a6",
   "metadata": {},
   "source": [
    "# Remote制御対応版"
   ]
  },
  {
   "cell_type": "markdown",
   "id": "967af602-f4fa-4d77-b8a0-5a72a303cece",
   "metadata": {},
   "source": [
    "## ライブラリインポート"
   ]
  },
  {
   "cell_type": "code",
   "execution_count": null,
   "id": "beee4b2b-af34-4e1b-8045-83a911360d8b",
   "metadata": {},
   "outputs": [],
   "source": [
    "exec(open('/choreonoid_ws/install/share/irsl_choreonoid/sample/irsl_import.py').read())"
   ]
  },
  {
   "cell_type": "code",
   "execution_count": null,
   "id": "174aa532-539a-4765-9794-842be38ea005",
   "metadata": {},
   "outputs": [],
   "source": [
    "from rpi_controleller import RPIController"
   ]
  },
  {
   "cell_type": "markdown",
   "id": "fb41f4e0-37ea-44a9-ba79-32985e6a77b8",
   "metadata": {},
   "source": [
    "## Raspbery piへの接続"
   ]
  },
  {
   "cell_type": "code",
   "execution_count": null,
   "id": "ab83cea8-b1d7-4445-b4c3-8be9fb306b45",
   "metadata": {},
   "outputs": [],
   "source": [
    "# 接続インスタンス作成\n",
    "rpc = RPIController('AssembleRobot', 'ros_settings.yaml')"
   ]
  },
  {
   "cell_type": "code",
   "execution_count": null,
   "id": "f8d2fddf-1676-4abf-a1d1-0fa0c423a4de",
   "metadata": {},
   "outputs": [],
   "source": [
    "# 設定ファイル送信\n",
    "rpc.send_settings(use_actuator=True, use_sensor=True, use_camera=False, dynamimxel_config='dynamixel_config.yaml', controller_config='controller_config.yaml', sensor_config_path = 'robot_sensor.yaml', send_files=[])\n",
    "rpc.start_robot()"
   ]
  },
  {
   "cell_type": "markdown",
   "id": "404a637b-0fb4-4ed0-aa6b-e88988069a30",
   "metadata": {},
   "source": [
    "## RobotInterface立ち上げ"
   ]
  },
  {
   "cell_type": "code",
   "execution_count": null,
   "id": "6a682a45-3fdb-4aeb-af26-a25aef62dfcd",
   "metadata": {},
   "outputs": [],
   "source": [
    "ri = RobotInterface('robot_interface.yaml')"
   ]
  },
  {
   "cell_type": "markdown",
   "id": "5e42b993-ed32-4304-8d11-e73c3de9430a",
   "metadata": {},
   "source": [
    "## RIの活用例"
   ]
  },
  {
   "cell_type": "code",
   "execution_count": null,
   "id": "958523a7-a48a-4ff9-8865-0cc45eb9d04a",
   "metadata": {},
   "outputs": [],
   "source": [
    "ri.sendAngleVector([-1, 1], 4)"
   ]
  },
  {
   "cell_type": "code",
   "execution_count": null,
   "id": "424ff91f-f2fe-4ee9-92b7-a2b1aff4f512",
   "metadata": {},
   "outputs": [],
   "source": [
    "tof_data = ri.waitNextData('TOFsensor0', timeout=1.0, clear=True)\n",
    "print(tof_data)"
   ]
  },
  {
   "cell_type": "markdown",
   "id": "cfaf381b-1e2c-4de8-86cc-c90481d77b6e",
   "metadata": {},
   "source": [
    "## 終了方法\n",
    "```rpc.stop_robot()```，もしくは，デコンストラクタで実施する"
   ]
  },
  {
   "cell_type": "code",
   "execution_count": null,
   "id": "5e154607-1cec-460b-a615-382a1d6cbd12",
   "metadata": {},
   "outputs": [],
   "source": [
    "del rpc"
   ]
  },
  {
   "cell_type": "code",
   "execution_count": null,
   "id": "21ac457a-3a95-499c-8f3a-0f67359edaa7",
   "metadata": {},
   "outputs": [],
   "source": []
  }
 ],
 "metadata": {
  "kernelspec": {
   "display_name": "Python 3 (ipykernel)",
   "language": "python",
   "name": "python3"
  },
  "language_info": {
   "codemirror_mode": {
    "name": "ipython",
    "version": 3
   },
   "file_extension": ".py",
   "mimetype": "text/x-python",
   "name": "python",
   "nbconvert_exporter": "python",
   "pygments_lexer": "ipython3",
   "version": "3.8.10"
  }
 },
 "nbformat": 4,
 "nbformat_minor": 5
}
