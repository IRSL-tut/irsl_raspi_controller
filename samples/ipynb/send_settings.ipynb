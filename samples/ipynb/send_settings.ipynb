{
 "cells": [
  {
   "cell_type": "markdown",
   "id": "a471cad1-86bf-4c63-913a-6a96b1dc07a6",
   "metadata": {},
   "source": [
    "# Remote制御対応版"
   ]
  },
  {
   "cell_type": "markdown",
   "id": "967af602-f4fa-4d77-b8a0-5a72a303cece",
   "metadata": {},
   "source": [
    "## ライブラリインポート"
   ]
  },
  {
   "cell_type": "code",
   "execution_count": 1,
   "id": "174aa532-539a-4765-9794-842be38ea005",
   "metadata": {},
   "outputs": [],
   "source": [
    "from rpi_controleller import RPIController"
   ]
  },
  {
   "cell_type": "markdown",
   "id": "fb41f4e0-37ea-44a9-ba79-32985e6a77b8",
   "metadata": {},
   "source": [
    "## Raspbery piへの接続"
   ]
  },
  {
   "cell_type": "code",
   "execution_count": 2,
   "id": "ab83cea8-b1d7-4445-b4c3-8be9fb306b45",
   "metadata": {},
   "outputs": [],
   "source": [
    "# 接続インスタンス作成\n",
    "# <namespace> robot_interface.yaml のnamespaceを確認\n",
    "# XXX.XXX.XXX.XXX IP address of robot\n",
    "rpc = RPIController('<namespace>', robot_ip_addr=\"XXX.XXX.XXX.XXX\")"
   ]
  },
  {
   "cell_type": "code",
   "execution_count": 3,
   "id": "f8d2fddf-1676-4abf-a1d1-0fa0c423a4de",
   "metadata": {},
   "outputs": [],
   "source": [
    "# 設定ファイル送信\n",
    "rpc.send_settings(use_actuator=True, dynamixel_config='dx_servo_config.yaml', controller_config='dx_controller_config.yaml', \n",
    "                  use_sensor=True, sensor_config='sensor_config.yaml', \n",
    "                  use_camera=False,send_files=[])"
   ]
  },
  {
   "cell_type": "markdown",
   "id": "1d029957-e09f-4b28-a095-217e85d53ff4",
   "metadata": {},
   "source": [
    "## robotの立ち上げ"
   ]
  },
  {
   "cell_type": "code",
   "execution_count": 4,
   "id": "b3f6c17e-91d3-4d82-99ca-443f12dc5c5c",
   "metadata": {},
   "outputs": [],
   "source": [
    "rpc.start_robot()"
   ]
  },
  {
   "cell_type": "markdown",
   "id": "8c1c03ba-89d8-47a2-9262-a3dfec268e4e",
   "metadata": {},
   "source": [
    "## robotの終了"
   ]
  },
  {
   "cell_type": "code",
   "execution_count": 9,
   "id": "fe2bcb73-a411-4159-adf5-f7bede6d4f2a",
   "metadata": {},
   "outputs": [],
   "source": [
    "rpc.stop_robot()"
   ]
  }
 ],
 "metadata": {
  "kernelspec": {
   "display_name": "Python 3 (ipykernel)",
   "language": "python",
   "name": "python3"
  },
  "language_info": {
   "codemirror_mode": {
    "name": "ipython",
    "version": 3
   },
   "file_extension": ".py",
   "mimetype": "text/x-python",
   "name": "python",
   "nbconvert_exporter": "python",
   "pygments_lexer": "ipython3",
   "version": "3.8.10"
  }
 },
 "nbformat": 4,
 "nbformat_minor": 5
}
