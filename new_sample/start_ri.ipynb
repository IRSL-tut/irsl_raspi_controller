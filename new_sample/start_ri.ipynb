{
 "cells": [
  {
   "cell_type": "markdown",
   "id": "a471cad1-86bf-4c63-913a-6a96b1dc07a6",
   "metadata": {},
   "source": [
    "# Remote制御対応版"
   ]
  },
  {
   "cell_type": "markdown",
   "id": "967af602-f4fa-4d77-b8a0-5a72a303cece",
   "metadata": {},
   "source": [
    "## ライブラリインポート"
   ]
  },
  {
   "cell_type": "code",
   "execution_count": 1,
   "id": "beee4b2b-af34-4e1b-8045-83a911360d8b",
   "metadata": {},
   "outputs": [],
   "source": [
    "exec(open('/choreonoid_ws/install/share/irsl_choreonoid/sample/irsl_import.py').read())"
   ]
  },
  {
   "cell_type": "markdown",
   "id": "404a637b-0fb4-4ed0-aa6b-e88988069a30",
   "metadata": {},
   "source": [
    "## RobotInterface立ち上げ"
   ]
  },
  {
   "cell_type": "code",
   "execution_count": 2,
   "id": "6a682a45-3fdb-4aeb-af26-a25aef62dfcd",
   "metadata": {},
   "outputs": [
    {
     "data": {
      "text/plain": [
       "loading model from //userdir/cps_rpi/new_sample/test_robot.body\n",
       "joint: [{'name': 'default', 'topic': '/AssembleRobot/joint_controller/command', 'type': 'command', 'joint_names': ['LINK_0', 'LINK_1']}]\n",
       "devices: [{'topic': '/AssembleRobot/joint_states', 'class': 'JointState', 'name': 'joint_state'}, {'topic': '/AssembleRobot/joint_controller/state', 'class': 'JointTrajectoryState', 'name': 'joint_trajectory_state'}, {'topic': '/AssembleRobot/TOFsensor0/value', 'type': 'std_msgs/Float64', 'name': 'TOFsensor0', 'rate': 10}, {'topic': '/AssembleRobot/TOFsensor1/value', 'type': 'std_msgs/Float64', 'name': 'TOFsensor1', 'rate': 10}]"
      ]
     },
     "execution_count": 2,
     "metadata": {},
     "output_type": "execute_result"
    }
   ],
   "source": [
    "ri = RobotInterface('robot_interface.yaml', MASTER='133.15.97.91', IP='133.15.97.61')"
   ]
  },
  {
   "cell_type": "markdown",
   "id": "b8bdc763-d4ea-4bb5-918d-9efc4ba88c7d",
   "metadata": {},
   "source": [
    "## RobotInterfaceを使う\n",
    "\n",
    "https://github.com/IRSL-tut/CPS-lecture/blob/main/notebooks/cps_lecture_robot_interface.ipynb"
   ]
  },
  {
   "cell_type": "code",
   "execution_count": 5,
   "id": "547c73bc-9996-414c-8f99-8e3666904ef4",
   "metadata": {},
   "outputs": [
    {
     "data": {
      "text/plain": [
       "array([0.4878059 , 0.48473793])"
      ]
     },
     "execution_count": 5,
     "metadata": {},
     "output_type": "execute_result"
    }
   ],
   "source": [
    "ri.actualAngleVector"
   ]
  },
  {
   "cell_type": "code",
   "execution_count": 6,
   "id": "de89512a-13f5-46de-b7aa-1f2a09b8329f",
   "metadata": {},
   "outputs": [],
   "source": [
    "ri.sendAngleVector(fv(-0.5, -0.5), tm=1.0)"
   ]
  }
 ],
 "metadata": {
  "kernelspec": {
   "display_name": "Choreonoid",
   "language": "python",
   "name": "choreonoid"
  },
  "language_info": {
   "codemirror_mode": "",
   "file_extension": ".py",
   "mimetype": "text/x-python",
   "name": "python",
   "nbconvert_exporter": "",
   "pygments_lexer": "",
   "version": "3.7"
  }
 },
 "nbformat": 4,
 "nbformat_minor": 5
}
