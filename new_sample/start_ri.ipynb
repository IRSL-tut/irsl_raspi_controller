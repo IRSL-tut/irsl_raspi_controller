{
 "cells": [
  {
   "cell_type": "markdown",
   "id": "a471cad1-86bf-4c63-913a-6a96b1dc07a6",
   "metadata": {},
   "source": [
    "# Remote制御対応版"
   ]
  },
  {
   "cell_type": "markdown",
   "id": "967af602-f4fa-4d77-b8a0-5a72a303cece",
   "metadata": {},
   "source": [
    "## ライブラリインポート"
   ]
  },
  {
   "cell_type": "code",
   "execution_count": null,
   "id": "beee4b2b-af34-4e1b-8045-83a911360d8b",
   "metadata": {},
   "outputs": [],
   "source": [
    "exec(open('/choreonoid_ws/install/share/irsl_choreonoid/sample/irsl_import.py').read())"
   ]
  },
  {
   "cell_type": "markdown",
   "id": "404a637b-0fb4-4ed0-aa6b-e88988069a30",
   "metadata": {},
   "source": [
    "## RobotInterface立ち上げ"
   ]
  },
  {
   "cell_type": "code",
   "execution_count": null,
   "id": "6a682a45-3fdb-4aeb-af26-a25aef62dfcd",
   "metadata": {},
   "outputs": [],
   "source": [
    "ri = RobotInterface('robot_interface.yaml', MASTER='xxx.xxx.xxx.xxx', IP='yyy.yyy.yyy.yyy')"
   ]
  },
  {
   "cell_type": "markdown",
   "id": "b8bdc763-d4ea-4bb5-918d-9efc4ba88c7d",
   "metadata": {},
   "source": [
    "## RobotInterfaceを使う\n",
    "\n",
    "https://github.com/IRSL-tut/CPS-lecture/blob/main/notebooks/cps_lecture_robot_interface.ipynb"
   ]
  }
 ],
 "metadata": {
  "kernelspec": {
   "display_name": "Choreonoid",
   "language": "python",
   "name": "choreonoid"
  },
  "language_info": {
   "codemirror_mode": "",
   "file_extension": ".py",
   "mimetype": "text/x-python",
   "name": "python",
   "nbconvert_exporter": "",
   "pygments_lexer": "ipython3",
   "version": "3.7"
  }
 },
 "nbformat": 4,
 "nbformat_minor": 5
}
